{
 "cells": [
  {
   "cell_type": "markdown",
   "metadata": {},
   "source": [
    "<div style=\"color: #FF5733; \n",
    "        font-weight:600; \n",
    "        font-size: 24px;  \n",
    "        text-align: center;\">RELATÓRIO INVESTIGANDO CONJUNTO DE DADOS</div>"
   ]
  },
  {
   "cell_type": "markdown",
   "metadata": {},
   "source": [
    "<h2>Introdução</h2>\n",
    "\n",
    "<br>\n",
    "O RM Titanic foi um navio de passageiros britânicos. Sua construção durou 2 anos. O Titanic foi pensado para ser um o navio mais luxuoso e mais seguro da sua época, gerando até lendas que era para ser supostamente “inafundável”.\n",
    "<p>\n",
    "A embarcação partiu em sua viagem inaugural de Southampton para Nova Iorque em 10 de abril de 1912. Ele colidiu com o iceberg e afundou com mais de 1500 habitantes a bordo, sendo um dos maiores desastres marítimos em tempos de paz de toda a história.\n",
    "\n",
    "\n",
    "<h2>Apresentando os dados</h2>\n",
    "\n",
    "<br>\n",
    "Esse estudo, realizerei intuições acerca dos tripulantes e das circustância que envolveram o acidente. Este conjunto de dados não abriga informações de todos os passageiros, mas apenas 891."
   ]
  },
  {
   "cell_type": "markdown",
   "metadata": {},
   "source": [
    "<h2>Algumas perguntas a serem investigada:</h2>\n",
    "<br>\n",
    "Dentre o conjundo de dados, gostaria de saber a resposta para algumas respostas para as perguntas.\n",
    "<ul>\n",
    "    <li><s>1. Quantos foram os que sobrevieram?</s></li>\n",
    "    <li><s>2. Quantos foram os que morreram na catástrofe ?</s> </li>\n",
    "    <li><s>3. Dentre os que sobreviveram, qual a média da idade ?</s></li>\n",
    "    <li><s>4. Dentre os que não sobreviram, qual a média de idade ?</s></li>\n",
    "    <li><s>5. Qual a relação entre os sobreviventes e a classe de ingresso ?</s></li>\n",
    "    <li><s>6. Qual ponto de embarque recebeu mais passageiros ?</s></li>\n",
    "    <li><s>7. Qual o sexo mais relevante entre os sobreviventes ?</s></li>\n",
    "    <li><s>8. Quantos bilhetes unicos existem ?</s></li>\n",
    "    <li><s>9. Quantos bilhetes duplicados existem ?</s></li>\n",
    "    <li><s>10. Quais as caracteristicas dos passageiros com bilhetes duplicados?</s></li>\n",
    "</ul>   "
   ]
  },
  {
   "cell_type": "markdown",
   "metadata": {},
   "source": [
    "# INICIANDO A ANALISE\n",
    "<i >Importando bibliotecas que sera preciso para analise</i>"
   ]
  },
  {
   "cell_type": "code",
   "execution_count": 1,
   "metadata": {},
   "outputs": [],
   "source": [
    "from plotnine import *\n",
    "import matplotlib.pyplot as plt\n",
    "import numpy as np\n",
    "import scipy.stats as stats\n",
    "\n",
    "import pandas as pd\n",
    "from pandas import Series,DataFrame\n",
    "import warnings\n",
    "\n",
    "warnings.filterwarnings('ignore')\n",
    "\n",
    "\n",
    "import seaborn as sns\n",
    "sns.set_style('whitegrid')\n",
    "\n",
    "%matplotlib inline\n",
    "\n"
   ]
  },
  {
   "cell_type": "markdown",
   "metadata": {},
   "source": [
    "<i>Carregando o dataset disponivel pela Udacity</i>"
   ]
  },
  {
   "cell_type": "code",
   "execution_count": 2,
   "metadata": {},
   "outputs": [],
   "source": [
    "# carregamento do arquivo.\n",
    "df = pd.read_csv('dados/titanic_data.csv')"
   ]
  },
  {
   "cell_type": "markdown",
   "metadata": {},
   "source": [
    "### Visão geral do conjunto de dados\n",
    "Pelo método ```df.head``` ira exibir as 5 primeiras linhas dado e, em seguida o metódo  ```df.describe``` imprime as estatísticas gerais do conjunto de dados.<br>\n",
    "\n",
    "Primeiro, o conjunto de dados é limpo para remover ou substituir valores ausentes. As colunas no conjunto de dados são;\n",
    "<table border=\"1\" width=\"50%\" align=left>\n",
    "    <tr><td>PassengerId:</td><td style=\"text-align:left\"> \n",
    "Identidade de Passageiros</td></tr>\n",
    "    <tr><td>Survived: </td><td style=\"text-align:left\">Se o passageiro sobreviveu ou não</td></tr>\n",
    "    <tr><td>Pclass:</td><td style=\"text-align:left\">Classe do ingresso</td></tr>\n",
    "    <tr><td>Name: </td><td style=\"text-align:left\">Nome do passageiro</td></tr>\n",
    "    <tr><td>Sex:</td><td style=\"text-align:left\"> Sexo de passageiro (masculino ou feminino)</td> </tr>\n",
    "    <tr><td>Age:</td><td style=\"text-align:left\">Idade do passageiro </td></tr>\n",
    "    <tr><td>SibSp:</td><td style=\"text-align:left\">Número de irmãos e / ou cônjuges que viajam com passageiros</td></tr>\n",
    "    <tr><td>Parch:</td><td style=\"text-align:left\">Número de pais e / ou filhos viajando com passageiros</td></tr>\n",
    "    <tr><td>Ticket: </td><td style=\"text-align:left\">Número do bilhete </td></tr>\n",
    "    <tr><td>Fare:</td><td style=\"text-align:left\">  Preço do bilhete </td></tr>\n",
    "    <tr><td>Cabin:</td><td style=\"text-align:left\"> Número da cabine</td></tr>\n",
    "    </tr>\n",
    "    \n",
    "</table>\n"
   ]
  },
  {
   "cell_type": "markdown",
   "metadata": {},
   "source": [
    "<h2>Conhecendo a dimensão</h2>"
   ]
  },
  {
   "cell_type": "code",
   "execution_count": 3,
   "metadata": {},
   "outputs": [
    {
     "name": "stdout",
     "output_type": "stream",
     "text": [
      "Número de linhas 891\n",
      "Número de linhas 12\n"
     ]
    }
   ],
   "source": [
    "print(\"Número de linhas\", df.shape[0])\n",
    "print(\"Número de linhas\", df.shape[1])"
   ]
  },
  {
   "cell_type": "code",
   "execution_count": 4,
   "metadata": {},
   "outputs": [
    {
     "data": {
      "text/html": [
       "<div>\n",
       "<style scoped>\n",
       "    .dataframe tbody tr th:only-of-type {\n",
       "        vertical-align: middle;\n",
       "    }\n",
       "\n",
       "    .dataframe tbody tr th {\n",
       "        vertical-align: top;\n",
       "    }\n",
       "\n",
       "    .dataframe thead th {\n",
       "        text-align: right;\n",
       "    }\n",
       "</style>\n",
       "<table border=\"1\" class=\"dataframe\">\n",
       "  <thead>\n",
       "    <tr style=\"text-align: right;\">\n",
       "      <th></th>\n",
       "      <th>PassengerId</th>\n",
       "      <th>Survived</th>\n",
       "      <th>Pclass</th>\n",
       "      <th>Name</th>\n",
       "      <th>Sex</th>\n",
       "      <th>Age</th>\n",
       "      <th>SibSp</th>\n",
       "      <th>Parch</th>\n",
       "      <th>Ticket</th>\n",
       "      <th>Fare</th>\n",
       "      <th>Cabin</th>\n",
       "      <th>Embarked</th>\n",
       "    </tr>\n",
       "  </thead>\n",
       "  <tbody>\n",
       "    <tr>\n",
       "      <th>0</th>\n",
       "      <td>1</td>\n",
       "      <td>0</td>\n",
       "      <td>3</td>\n",
       "      <td>Braund, Mr. Owen Harris</td>\n",
       "      <td>male</td>\n",
       "      <td>22.0</td>\n",
       "      <td>1</td>\n",
       "      <td>0</td>\n",
       "      <td>A/5 21171</td>\n",
       "      <td>7.2500</td>\n",
       "      <td>NaN</td>\n",
       "      <td>S</td>\n",
       "    </tr>\n",
       "    <tr>\n",
       "      <th>1</th>\n",
       "      <td>2</td>\n",
       "      <td>1</td>\n",
       "      <td>1</td>\n",
       "      <td>Cumings, Mrs. John Bradley (Florence Briggs Th...</td>\n",
       "      <td>female</td>\n",
       "      <td>38.0</td>\n",
       "      <td>1</td>\n",
       "      <td>0</td>\n",
       "      <td>PC 17599</td>\n",
       "      <td>71.2833</td>\n",
       "      <td>C85</td>\n",
       "      <td>C</td>\n",
       "    </tr>\n",
       "    <tr>\n",
       "      <th>2</th>\n",
       "      <td>3</td>\n",
       "      <td>1</td>\n",
       "      <td>3</td>\n",
       "      <td>Heikkinen, Miss. Laina</td>\n",
       "      <td>female</td>\n",
       "      <td>26.0</td>\n",
       "      <td>0</td>\n",
       "      <td>0</td>\n",
       "      <td>STON/O2. 3101282</td>\n",
       "      <td>7.9250</td>\n",
       "      <td>NaN</td>\n",
       "      <td>S</td>\n",
       "    </tr>\n",
       "    <tr>\n",
       "      <th>3</th>\n",
       "      <td>4</td>\n",
       "      <td>1</td>\n",
       "      <td>1</td>\n",
       "      <td>Futrelle, Mrs. Jacques Heath (Lily May Peel)</td>\n",
       "      <td>female</td>\n",
       "      <td>35.0</td>\n",
       "      <td>1</td>\n",
       "      <td>0</td>\n",
       "      <td>113803</td>\n",
       "      <td>53.1000</td>\n",
       "      <td>C123</td>\n",
       "      <td>S</td>\n",
       "    </tr>\n",
       "    <tr>\n",
       "      <th>4</th>\n",
       "      <td>5</td>\n",
       "      <td>0</td>\n",
       "      <td>3</td>\n",
       "      <td>Allen, Mr. William Henry</td>\n",
       "      <td>male</td>\n",
       "      <td>35.0</td>\n",
       "      <td>0</td>\n",
       "      <td>0</td>\n",
       "      <td>373450</td>\n",
       "      <td>8.0500</td>\n",
       "      <td>NaN</td>\n",
       "      <td>S</td>\n",
       "    </tr>\n",
       "  </tbody>\n",
       "</table>\n",
       "</div>"
      ],
      "text/plain": [
       "   PassengerId  Survived  Pclass  \\\n",
       "0            1         0       3   \n",
       "1            2         1       1   \n",
       "2            3         1       3   \n",
       "3            4         1       1   \n",
       "4            5         0       3   \n",
       "\n",
       "                                                Name     Sex   Age  SibSp  \\\n",
       "0                            Braund, Mr. Owen Harris    male  22.0      1   \n",
       "1  Cumings, Mrs. John Bradley (Florence Briggs Th...  female  38.0      1   \n",
       "2                             Heikkinen, Miss. Laina  female  26.0      0   \n",
       "3       Futrelle, Mrs. Jacques Heath (Lily May Peel)  female  35.0      1   \n",
       "4                           Allen, Mr. William Henry    male  35.0      0   \n",
       "\n",
       "   Parch            Ticket     Fare Cabin Embarked  \n",
       "0      0         A/5 21171   7.2500   NaN        S  \n",
       "1      0          PC 17599  71.2833   C85        C  \n",
       "2      0  STON/O2. 3101282   7.9250   NaN        S  \n",
       "3      0            113803  53.1000  C123        S  \n",
       "4      0            373450   8.0500   NaN        S  "
      ]
     },
     "execution_count": 4,
     "metadata": {},
     "output_type": "execute_result"
    }
   ],
   "source": [
    "# exibe a 5 primeiras linhas dos dados\n",
    "df.head()"
   ]
  },
  {
   "cell_type": "markdown",
   "metadata": {},
   "source": [
    "<i>Acima lista a 5 primeiras linhas do ```dataSet```, algumas colunas que não serão utilizadas na analise serão removidas, são elas: \n",
    "     <ul>\n",
    "        <li>PassengerId - código do passageiro. </li>\n",
    "        <li>SibSp       - Quantidade de irmãos/cônjuge abordo. </li>\n",
    "        <li>Pash        - quantidade de pais/crianças a bordo.</li>\n",
    "        <li>Cabin       - numero da cabinhe. </li>\n",
    "    </ul>\n",
    "Esta váriaveis não são pertinentes para as perguntas solicitadas.\n",
    "    </i>"
   ]
  },
  {
   "cell_type": "code",
   "execution_count": 5,
   "metadata": {},
   "outputs": [
    {
     "data": {
      "text/html": [
       "<div>\n",
       "<style scoped>\n",
       "    .dataframe tbody tr th:only-of-type {\n",
       "        vertical-align: middle;\n",
       "    }\n",
       "\n",
       "    .dataframe tbody tr th {\n",
       "        vertical-align: top;\n",
       "    }\n",
       "\n",
       "    .dataframe thead th {\n",
       "        text-align: right;\n",
       "    }\n",
       "</style>\n",
       "<table border=\"1\" class=\"dataframe\">\n",
       "  <thead>\n",
       "    <tr style=\"text-align: right;\">\n",
       "      <th></th>\n",
       "      <th>Survived</th>\n",
       "      <th>Pclass</th>\n",
       "      <th>Name</th>\n",
       "      <th>Sex</th>\n",
       "      <th>Age</th>\n",
       "      <th>Ticket</th>\n",
       "      <th>Fare</th>\n",
       "      <th>Embarked</th>\n",
       "    </tr>\n",
       "  </thead>\n",
       "  <tbody>\n",
       "    <tr>\n",
       "      <th>0</th>\n",
       "      <td>0</td>\n",
       "      <td>3</td>\n",
       "      <td>Braund, Mr. Owen Harris</td>\n",
       "      <td>male</td>\n",
       "      <td>22.0</td>\n",
       "      <td>A/5 21171</td>\n",
       "      <td>7.2500</td>\n",
       "      <td>S</td>\n",
       "    </tr>\n",
       "    <tr>\n",
       "      <th>1</th>\n",
       "      <td>1</td>\n",
       "      <td>1</td>\n",
       "      <td>Cumings, Mrs. John Bradley (Florence Briggs Th...</td>\n",
       "      <td>female</td>\n",
       "      <td>38.0</td>\n",
       "      <td>PC 17599</td>\n",
       "      <td>71.2833</td>\n",
       "      <td>C</td>\n",
       "    </tr>\n",
       "    <tr>\n",
       "      <th>2</th>\n",
       "      <td>1</td>\n",
       "      <td>3</td>\n",
       "      <td>Heikkinen, Miss. Laina</td>\n",
       "      <td>female</td>\n",
       "      <td>26.0</td>\n",
       "      <td>STON/O2. 3101282</td>\n",
       "      <td>7.9250</td>\n",
       "      <td>S</td>\n",
       "    </tr>\n",
       "    <tr>\n",
       "      <th>3</th>\n",
       "      <td>1</td>\n",
       "      <td>1</td>\n",
       "      <td>Futrelle, Mrs. Jacques Heath (Lily May Peel)</td>\n",
       "      <td>female</td>\n",
       "      <td>35.0</td>\n",
       "      <td>113803</td>\n",
       "      <td>53.1000</td>\n",
       "      <td>S</td>\n",
       "    </tr>\n",
       "    <tr>\n",
       "      <th>4</th>\n",
       "      <td>0</td>\n",
       "      <td>3</td>\n",
       "      <td>Allen, Mr. William Henry</td>\n",
       "      <td>male</td>\n",
       "      <td>35.0</td>\n",
       "      <td>373450</td>\n",
       "      <td>8.0500</td>\n",
       "      <td>S</td>\n",
       "    </tr>\n",
       "  </tbody>\n",
       "</table>\n",
       "</div>"
      ],
      "text/plain": [
       "   Survived  Pclass                                               Name  \\\n",
       "0         0       3                            Braund, Mr. Owen Harris   \n",
       "1         1       1  Cumings, Mrs. John Bradley (Florence Briggs Th...   \n",
       "2         1       3                             Heikkinen, Miss. Laina   \n",
       "3         1       1       Futrelle, Mrs. Jacques Heath (Lily May Peel)   \n",
       "4         0       3                           Allen, Mr. William Henry   \n",
       "\n",
       "      Sex   Age            Ticket     Fare Embarked  \n",
       "0    male  22.0         A/5 21171   7.2500        S  \n",
       "1  female  38.0          PC 17599  71.2833        C  \n",
       "2  female  26.0  STON/O2. 3101282   7.9250        S  \n",
       "3  female  35.0            113803  53.1000        S  \n",
       "4    male  35.0            373450   8.0500        S  "
      ]
     },
     "execution_count": 5,
     "metadata": {},
     "output_type": "execute_result"
    }
   ],
   "source": [
    "#removendo coluna, essas colunas não serão necessária nas analises\n",
    "df.drop(['PassengerId','SibSp','Parch','Cabin'], axis=1, inplace=True)\n",
    "df.head()"
   ]
  },
  {
   "cell_type": "code",
   "execution_count": 6,
   "metadata": {},
   "outputs": [
    {
     "data": {
      "text/html": [
       "<div>\n",
       "<style scoped>\n",
       "    .dataframe tbody tr th:only-of-type {\n",
       "        vertical-align: middle;\n",
       "    }\n",
       "\n",
       "    .dataframe tbody tr th {\n",
       "        vertical-align: top;\n",
       "    }\n",
       "\n",
       "    .dataframe thead th {\n",
       "        text-align: right;\n",
       "    }\n",
       "</style>\n",
       "<table border=\"1\" class=\"dataframe\">\n",
       "  <thead>\n",
       "    <tr style=\"text-align: right;\">\n",
       "      <th></th>\n",
       "      <th>Survived</th>\n",
       "      <th>Pclass</th>\n",
       "      <th>Name</th>\n",
       "      <th>Sex</th>\n",
       "      <th>Age</th>\n",
       "      <th>Ticket</th>\n",
       "      <th>Fare</th>\n",
       "      <th>Embarked</th>\n",
       "    </tr>\n",
       "  </thead>\n",
       "  <tbody>\n",
       "    <tr>\n",
       "      <th>count</th>\n",
       "      <td>891.000000</td>\n",
       "      <td>891.000000</td>\n",
       "      <td>891</td>\n",
       "      <td>891</td>\n",
       "      <td>714.000000</td>\n",
       "      <td>891</td>\n",
       "      <td>891.000000</td>\n",
       "      <td>889</td>\n",
       "    </tr>\n",
       "    <tr>\n",
       "      <th>unique</th>\n",
       "      <td>NaN</td>\n",
       "      <td>NaN</td>\n",
       "      <td>891</td>\n",
       "      <td>2</td>\n",
       "      <td>NaN</td>\n",
       "      <td>681</td>\n",
       "      <td>NaN</td>\n",
       "      <td>3</td>\n",
       "    </tr>\n",
       "    <tr>\n",
       "      <th>top</th>\n",
       "      <td>NaN</td>\n",
       "      <td>NaN</td>\n",
       "      <td>Jansson, Mr. Carl Olof</td>\n",
       "      <td>male</td>\n",
       "      <td>NaN</td>\n",
       "      <td>CA. 2343</td>\n",
       "      <td>NaN</td>\n",
       "      <td>S</td>\n",
       "    </tr>\n",
       "    <tr>\n",
       "      <th>freq</th>\n",
       "      <td>NaN</td>\n",
       "      <td>NaN</td>\n",
       "      <td>1</td>\n",
       "      <td>577</td>\n",
       "      <td>NaN</td>\n",
       "      <td>7</td>\n",
       "      <td>NaN</td>\n",
       "      <td>644</td>\n",
       "    </tr>\n",
       "    <tr>\n",
       "      <th>mean</th>\n",
       "      <td>0.383838</td>\n",
       "      <td>2.308642</td>\n",
       "      <td>NaN</td>\n",
       "      <td>NaN</td>\n",
       "      <td>29.699118</td>\n",
       "      <td>NaN</td>\n",
       "      <td>32.204208</td>\n",
       "      <td>NaN</td>\n",
       "    </tr>\n",
       "    <tr>\n",
       "      <th>std</th>\n",
       "      <td>0.486592</td>\n",
       "      <td>0.836071</td>\n",
       "      <td>NaN</td>\n",
       "      <td>NaN</td>\n",
       "      <td>14.526497</td>\n",
       "      <td>NaN</td>\n",
       "      <td>49.693429</td>\n",
       "      <td>NaN</td>\n",
       "    </tr>\n",
       "    <tr>\n",
       "      <th>min</th>\n",
       "      <td>0.000000</td>\n",
       "      <td>1.000000</td>\n",
       "      <td>NaN</td>\n",
       "      <td>NaN</td>\n",
       "      <td>0.420000</td>\n",
       "      <td>NaN</td>\n",
       "      <td>0.000000</td>\n",
       "      <td>NaN</td>\n",
       "    </tr>\n",
       "    <tr>\n",
       "      <th>25%</th>\n",
       "      <td>0.000000</td>\n",
       "      <td>2.000000</td>\n",
       "      <td>NaN</td>\n",
       "      <td>NaN</td>\n",
       "      <td>20.125000</td>\n",
       "      <td>NaN</td>\n",
       "      <td>7.910400</td>\n",
       "      <td>NaN</td>\n",
       "    </tr>\n",
       "    <tr>\n",
       "      <th>50%</th>\n",
       "      <td>0.000000</td>\n",
       "      <td>3.000000</td>\n",
       "      <td>NaN</td>\n",
       "      <td>NaN</td>\n",
       "      <td>28.000000</td>\n",
       "      <td>NaN</td>\n",
       "      <td>14.454200</td>\n",
       "      <td>NaN</td>\n",
       "    </tr>\n",
       "    <tr>\n",
       "      <th>75%</th>\n",
       "      <td>1.000000</td>\n",
       "      <td>3.000000</td>\n",
       "      <td>NaN</td>\n",
       "      <td>NaN</td>\n",
       "      <td>38.000000</td>\n",
       "      <td>NaN</td>\n",
       "      <td>31.000000</td>\n",
       "      <td>NaN</td>\n",
       "    </tr>\n",
       "    <tr>\n",
       "      <th>max</th>\n",
       "      <td>1.000000</td>\n",
       "      <td>3.000000</td>\n",
       "      <td>NaN</td>\n",
       "      <td>NaN</td>\n",
       "      <td>80.000000</td>\n",
       "      <td>NaN</td>\n",
       "      <td>512.329200</td>\n",
       "      <td>NaN</td>\n",
       "    </tr>\n",
       "  </tbody>\n",
       "</table>\n",
       "</div>"
      ],
      "text/plain": [
       "          Survived      Pclass                    Name   Sex         Age  \\\n",
       "count   891.000000  891.000000                     891   891  714.000000   \n",
       "unique         NaN         NaN                     891     2         NaN   \n",
       "top            NaN         NaN  Jansson, Mr. Carl Olof  male         NaN   \n",
       "freq           NaN         NaN                       1   577         NaN   \n",
       "mean      0.383838    2.308642                     NaN   NaN   29.699118   \n",
       "std       0.486592    0.836071                     NaN   NaN   14.526497   \n",
       "min       0.000000    1.000000                     NaN   NaN    0.420000   \n",
       "25%       0.000000    2.000000                     NaN   NaN   20.125000   \n",
       "50%       0.000000    3.000000                     NaN   NaN   28.000000   \n",
       "75%       1.000000    3.000000                     NaN   NaN   38.000000   \n",
       "max       1.000000    3.000000                     NaN   NaN   80.000000   \n",
       "\n",
       "          Ticket        Fare Embarked  \n",
       "count        891  891.000000      889  \n",
       "unique       681         NaN        3  \n",
       "top     CA. 2343         NaN        S  \n",
       "freq           7         NaN      644  \n",
       "mean         NaN   32.204208      NaN  \n",
       "std          NaN   49.693429      NaN  \n",
       "min          NaN    0.000000      NaN  \n",
       "25%          NaN    7.910400      NaN  \n",
       "50%          NaN   14.454200      NaN  \n",
       "75%          NaN   31.000000      NaN  \n",
       "max          NaN  512.329200      NaN  "
      ]
     },
     "execution_count": 6,
     "metadata": {},
     "output_type": "execute_result"
    }
   ],
   "source": [
    "#imprime as estatísticas gerais do conjunto de dado\n",
    "df.describe(include=\"all\")"
   ]
  },
  {
   "cell_type": "markdown",
   "metadata": {},
   "source": [
    "<i>As colunas foram removidas. Mais a baixo irei adicionar novas colunas.</i>"
   ]
  },
  {
   "cell_type": "code",
   "execution_count": 7,
   "metadata": {},
   "outputs": [
    {
     "name": "stdout",
     "output_type": "stream",
     "text": [
      "<class 'pandas.core.frame.DataFrame'>\n",
      "RangeIndex: 891 entries, 0 to 890\n",
      "Data columns (total 8 columns):\n",
      "Survived    891 non-null int64\n",
      "Pclass      891 non-null int64\n",
      "Name        891 non-null object\n",
      "Sex         891 non-null object\n",
      "Age         714 non-null float64\n",
      "Ticket      891 non-null object\n",
      "Fare        891 non-null float64\n",
      "Embarked    889 non-null object\n",
      "dtypes: float64(2), int64(2), object(4)\n",
      "memory usage: 55.8+ KB\n"
     ]
    }
   ],
   "source": [
    "df.info()"
   ]
  },
  {
   "cell_type": "markdown",
   "metadata": {},
   "source": [
    "<i> As informações acima, as colunas (Age,Embarked) esta com dados nulos. E essas colunas serão utilizada para analis</i>"
   ]
  },
  {
   "cell_type": "code",
   "execution_count": 8,
   "metadata": {},
   "outputs": [
    {
     "data": {
      "text/html": [
       "<div>\n",
       "<style scoped>\n",
       "    .dataframe tbody tr th:only-of-type {\n",
       "        vertical-align: middle;\n",
       "    }\n",
       "\n",
       "    .dataframe tbody tr th {\n",
       "        vertical-align: top;\n",
       "    }\n",
       "\n",
       "    .dataframe thead th {\n",
       "        text-align: right;\n",
       "    }\n",
       "</style>\n",
       "<table border=\"1\" class=\"dataframe\">\n",
       "  <thead>\n",
       "    <tr style=\"text-align: right;\">\n",
       "      <th></th>\n",
       "      <th>Survived</th>\n",
       "      <th>Pclass</th>\n",
       "      <th>Name</th>\n",
       "      <th>Sex</th>\n",
       "      <th>Age</th>\n",
       "      <th>Ticket</th>\n",
       "      <th>Fare</th>\n",
       "      <th>Embarked</th>\n",
       "    </tr>\n",
       "  </thead>\n",
       "  <tbody>\n",
       "    <tr>\n",
       "      <th>886</th>\n",
       "      <td>0</td>\n",
       "      <td>2</td>\n",
       "      <td>Montvila, Rev. Juozas</td>\n",
       "      <td>male</td>\n",
       "      <td>27.0</td>\n",
       "      <td>211536</td>\n",
       "      <td>13.00</td>\n",
       "      <td>S</td>\n",
       "    </tr>\n",
       "    <tr>\n",
       "      <th>887</th>\n",
       "      <td>1</td>\n",
       "      <td>1</td>\n",
       "      <td>Graham, Miss. Margaret Edith</td>\n",
       "      <td>female</td>\n",
       "      <td>19.0</td>\n",
       "      <td>112053</td>\n",
       "      <td>30.00</td>\n",
       "      <td>S</td>\n",
       "    </tr>\n",
       "    <tr>\n",
       "      <th>888</th>\n",
       "      <td>0</td>\n",
       "      <td>3</td>\n",
       "      <td>Johnston, Miss. Catherine Helen \"Carrie\"</td>\n",
       "      <td>female</td>\n",
       "      <td>NaN</td>\n",
       "      <td>W./C. 6607</td>\n",
       "      <td>23.45</td>\n",
       "      <td>S</td>\n",
       "    </tr>\n",
       "    <tr>\n",
       "      <th>889</th>\n",
       "      <td>1</td>\n",
       "      <td>1</td>\n",
       "      <td>Behr, Mr. Karl Howell</td>\n",
       "      <td>male</td>\n",
       "      <td>26.0</td>\n",
       "      <td>111369</td>\n",
       "      <td>30.00</td>\n",
       "      <td>C</td>\n",
       "    </tr>\n",
       "    <tr>\n",
       "      <th>890</th>\n",
       "      <td>0</td>\n",
       "      <td>3</td>\n",
       "      <td>Dooley, Mr. Patrick</td>\n",
       "      <td>male</td>\n",
       "      <td>32.0</td>\n",
       "      <td>370376</td>\n",
       "      <td>7.75</td>\n",
       "      <td>Q</td>\n",
       "    </tr>\n",
       "  </tbody>\n",
       "</table>\n",
       "</div>"
      ],
      "text/plain": [
       "     Survived  Pclass                                      Name     Sex   Age  \\\n",
       "886         0       2                     Montvila, Rev. Juozas    male  27.0   \n",
       "887         1       1              Graham, Miss. Margaret Edith  female  19.0   \n",
       "888         0       3  Johnston, Miss. Catherine Helen \"Carrie\"  female   NaN   \n",
       "889         1       1                     Behr, Mr. Karl Howell    male  26.0   \n",
       "890         0       3                       Dooley, Mr. Patrick    male  32.0   \n",
       "\n",
       "         Ticket   Fare Embarked  \n",
       "886      211536  13.00        S  \n",
       "887      112053  30.00        S  \n",
       "888  W./C. 6607  23.45        S  \n",
       "889      111369  30.00        C  \n",
       "890      370376   7.75        Q  "
      ]
     },
     "execution_count": 8,
     "metadata": {},
     "output_type": "execute_result"
    }
   ],
   "source": [
    "df.tail()"
   ]
  },
  {
   "cell_type": "markdown",
   "metadata": {},
   "source": [
    "<h2>Dicionário de dados atualizado</h2>\n",
    "<br>\n",
    "<strong>Survived:</strong> Informa se o passageiro sobreviveu ao desastre. 0 = Não; 1 = Sim<br>\n",
    "<strong>Pclass:</strong> Classe na qual o passageiro viajou. 1 = Primeira Classe; 2 = Segunda Classe; 3 = Terceira Classe<br>\n",
    "<strong>Name:</strong> Nome do passageiro<br>\n",
    "<strong>Sex:</strong> Sexo do passageiro<br>\n",
    "<strong>Age:</strong> Idade do passageiro<br>\n",
    "<strong>Ticket:</strong> Valor da passagem<br>\n",
    "<strong>Embarked:</strong> Local onde o passageiro embarcou<br>"
   ]
  },
  {
   "cell_type": "markdown",
   "metadata": {},
   "source": [
    "### Validando 3 problemas comuns: (dados faltantes, linhas duplicadas, tipos de dados incorretos)"
   ]
  },
  {
   "cell_type": "markdown",
   "metadata": {},
   "source": [
    "<i> Nas informações acima, as colunas (Age,Embarked) esta com dados nulos.<br>\n",
    "    Irei adicionar novas colunas categorias para gerar alguns gráficos.<br>\n",
    "Estou transformando os rótulos `zero` e `um` em algo mais legível com a função apply e, então, convertendo a series para o tipo categórico com a função astype\n",
    "</i>\n"
   ]
  },
  {
   "cell_type": "code",
   "execution_count": 9,
   "metadata": {},
   "outputs": [
    {
     "data": {
      "text/plain": [
       "0          morto\n",
       "1    sobrevivido\n",
       "2    sobrevivido\n",
       "3    sobrevivido\n",
       "4          morto\n",
       "Name: cat_Survived, dtype: category\n",
       "Categories (2, object): [morto, sobrevivido]"
      ]
     },
     "execution_count": 9,
     "metadata": {},
     "output_type": "execute_result"
    }
   ],
   "source": [
    "df['cat_Survived'] = df.Survived.apply(lambda x: [\"morto\", \"sobrevivido\"][x]).astype(\"category\")\n",
    "# veja o resultado a seguir\n",
    "df['cat_Survived'].head()"
   ]
  },
  {
   "cell_type": "markdown",
   "metadata": {},
   "source": [
    "# 1. Sobrevidos e Mortos"
   ]
  },
  {
   "cell_type": "markdown",
   "metadata": {},
   "source": [
    "<i style=\"font-size:18px;color:#00008B;font-weight:bold\">Quantos foram os sobreviventes? E Quantos foram os que morreram?</i>"
   ]
  },
  {
   "cell_type": "code",
   "execution_count": 10,
   "metadata": {},
   "outputs": [
    {
     "data": {
      "text/plain": [
       "Text(0,0.5,'')"
      ]
     },
     "execution_count": 10,
     "metadata": {},
     "output_type": "execute_result"
    },
    {
     "data": {
      "image/png": "[encoded data removed]",
      "text/plain": [
       "<Figure size 432x432 with 1 Axes>"
      ]
     },
     "metadata": {},
     "output_type": "display_data"
    }
   ],
   "source": [
    "df.cat_Survived.value_counts().plot.pie(colors=('tab:red', 'tab:blue'),\n",
    "                                         title='Percentual das Pessoas que sobreviveram e não sobrevivente (figura 1)',\n",
    "                                         fontsize=16, shadow= True, startangle=90, autopct='%1.1f%%',\n",
    "                                         figsize=(6,6)).set_ylabel('')\n",
    "\n"
   ]
  },
  {
   "cell_type": "code",
   "execution_count": 11,
   "metadata": {},
   "outputs": [
    {
     "data": {
      "text/plain": [
       "morto          549\n",
       "sobrevivido    342\n",
       "Name: cat_Survived, dtype: int64"
      ]
     },
     "execution_count": 11,
     "metadata": {},
     "output_type": "execute_result"
    }
   ],
   "source": [
    "df['cat_Survived'].value_counts()"
   ]
  },
  {
   "cell_type": "markdown",
   "metadata": {},
   "source": [
    "<i style=\"font-size:17px\">Como da para perceber na figura 1 e no resultado da coluna `cat_Survived`, mais da metade dos passageiros morreram.\n",
    "<p></i>    "
   ]
  },
  {
   "cell_type": "markdown",
   "metadata": {},
   "source": [
    "# 2. Idade"
   ]
  },
  {
   "cell_type": "markdown",
   "metadata": {},
   "source": [
    "<b><i style=\"font-size:18px;color:#00008B;\">Dos que sobreviveram qual a média de idade? Dos que não sobreviveram qual a média de idade?</i></b>"
   ]
  },
  {
   "cell_type": "markdown",
   "metadata": {},
   "source": [
    "  ### Exibindo Histogramas das idades"
   ]
  },
  {
   "cell_type": "code",
   "execution_count": 12,
   "metadata": {},
   "outputs": [
    {
     "data": {
      "text/plain": [
       "Text(0,0.5,'Frequencia')"
      ]
     },
     "execution_count": 12,
     "metadata": {},
     "output_type": "execute_result"
    },
    {
     "data": {
      "text/plain": [
       "<Figure size 432x288 with 0 Axes>"
      ]
     },
     "metadata": {},
     "output_type": "display_data"
    },
    {
     "data": {
      "image/png": "[encoded data removed]",
      "text/plain": [
       "<Figure size 720x288 with 1 Axes>"
      ]
     },
     "metadata": {},
     "output_type": "display_data"
    }
   ],
   "source": [
    "plt.figure();\n",
    "df.hist(column='Age', color=('blue'), alpha=0.5, bins=10, figsize=(10,4))\n",
    "plt.title('Histograma por idade (grafico 2.1) \\n Total: %s' % (df.shape[0]))\n",
    "plt.xlabel('Idade')\n",
    "plt.ylabel('Frequencia')"
   ]
  },
  {
   "cell_type": "markdown",
   "metadata": {},
   "source": [
    "<i>Percebe-se pelo histograma (figura 2) que os passageiros tinha aproximadamente entre 18 a 32 anos.<p>\n",
    "Dentre esses, percebece-se que algumas idades não estavam preenchidades.\n",
    "</i> "
   ]
  },
  {
   "cell_type": "code",
   "execution_count": 13,
   "metadata": {},
   "outputs": [
    {
     "name": "stdout",
     "output_type": "stream",
     "text": [
      "SEM idade preenchidas:  177\n",
      "COM idade preenchidas:  714\n"
     ]
    }
   ],
   "source": [
    "print(\"SEM idade preenchidas: \", df.Age.isnull().sum())\n",
    "print(\"COM idade preenchidas: \", (~df.Age.isnull()).sum())"
   ]
  },
  {
   "cell_type": "markdown",
   "metadata": {},
   "source": [
    "<i> Aqui será criada um novo `dataFrame`, neste será removida as colunas das idades e adicionando uma nova coluna para definir se era criança, adulto ou idoso</i>"
   ]
  },
  {
   "cell_type": "markdown",
   "metadata": {},
   "source": [
    "### Exibindo Histogramas das idades dos sobrevivente e não sobreviventes"
   ]
  },
  {
   "cell_type": "code",
   "execution_count": 14,
   "metadata": {},
   "outputs": [
    {
     "data": {
      "text/plain": [
       "crianca     77\n",
       "idoso      103\n",
       "adulto     534\n",
       "Name: faixa_etaria_qcut, dtype: int64"
      ]
     },
     "execution_count": 14,
     "metadata": {},
     "output_type": "execute_result"
    }
   ],
   "source": [
    "#faz a cópia do dataFrame para pegar a idade média dos sobreviventes\n",
    "df_age = df.copy()\n",
    "# removendo idades nulas\n",
    "df_age.dropna(subset=['Age'], inplace=True)\n",
    "\n",
    "# criando a coluna faixa_etaria com valores nulos\n",
    "df_age['faixa_etaria'] = None\n",
    "\n",
    "# povoando as linhas dos adultos.\n",
    "# linhas nas quais a idade está no intervalo [15, 45).\n",
    "df_age.loc[(15 <= df_age.Age) & (df_age.Age < 45), 'faixa_etaria'] = 'adulto'\n",
    "\n",
    "# povoe as linhas das crianças.\n",
    "# linhas nas quais a idade está no intervalo [0, 15).\n",
    "df_age.loc[(0 <= df_age.Age) & (df_age.Age < 15), 'faixa_etaria'] = 'crianca'\n",
    "\n",
    "# povoe as linhas dos idoso.\n",
    "# linhas nas quais a idade está no intervalo [45, 100].\n",
    "df_age.loc[(45 <= df_age.Age) & (df_age.Age < 100), 'faixa_etaria'] = 'idoso'\n",
    "df_age.faixa_etaria.value_counts()\n",
    "df_age['faixa_etaria_qcut'] = pd.qcut(df_age.Age, q=[0, .10, .85, 1.], labels=['crianca', 'adulto', 'idoso'])\n",
    "df_age.faixa_etaria_qcut.value_counts().sort_values(ascending=True)"
   ]
  },
  {
   "cell_type": "code",
   "execution_count": 15,
   "metadata": {},
   "outputs": [
    {
     "data": {
      "text/plain": [
       "<Figure size 432x288 with 0 Axes>"
      ]
     },
     "metadata": {},
     "output_type": "display_data"
    },
    {
     "data": {
      "image/png": "[encoded data removed]",
      "text/plain": [
       "<Figure size 720x360 with 1 Axes>"
      ]
     },
     "metadata": {},
     "output_type": "display_data"
    }
   ],
   "source": [
    "df_histage = pd.DataFrame({'Total': df_age['Age'],\n",
    "                          'Não sobreviveu': df_age[df_age['Survived'] == 0]['Age'],\n",
    "                          'Sobreviveu': df_age[df_age['Survived']==1]['Age']},\n",
    "                          columns=['Total','Não sobreviveu', 'Sobreviveu']\n",
    "                         )\n",
    "plt.figure()\n",
    "\n",
    "df_histage.plot.hist(bins=10, figsize=(10,5), color=('blue', 'red', 'green'),\n",
    "                    title=' Histograma (Total, Sobreviventes e Não sobreviventes) por idade. figura 2.2')\n",
    "plt.xlabel('Idade')\n",
    "plt.ylabel('Frequênquência')\n",
    "plt.show()\n"
   ]
  },
  {
   "cell_type": "markdown",
   "metadata": {},
   "source": [
    "<i>O gráfico acima, exibe que o maior indice de sobrevivência foram as crianças.</i>"
   ]
  },
  {
   "cell_type": "code",
   "execution_count": 16,
   "metadata": {},
   "outputs": [
    {
     "data": {
      "text/plain": [
       "faixa_etaria\n",
       "adulto     0.387716\n",
       "crianca    0.576923\n",
       "idoso      0.373913\n",
       "Name: Survived, dtype: float64"
      ]
     },
     "execution_count": 16,
     "metadata": {},
     "output_type": "execute_result"
    }
   ],
   "source": [
    "df_age.groupby('faixa_etaria')['Survived'].mean()"
   ]
  },
  {
   "cell_type": "code",
   "execution_count": 17,
   "metadata": {},
   "outputs": [
    {
     "data": {
      "image/png": "[encoded data removed]",
      "text/plain": [
       "<Figure size 950.875x216 with 1 Axes>"
      ]
     },
     "metadata": {},
     "output_type": "display_data"
    }
   ],
   "source": [
    "facet = sns.FacetGrid(df_age, hue=\"cat_Survived\",aspect=4, hue_kws={'color': ['r', 'b']})\n",
    "facet.map(sns.kdeplot,'Age',shade= True)\n",
    "facet.set(xlim=(0, df_age['Age'].max()))\n",
    "facet.add_legend()\n",
    "\n",
    "plt.title(\"Media de idade dos sobrevividos e os mortos. (figura 2.3)\")\n",
    "plt.xlabel('Idade')\n",
    "plt.ylabel('Frequênquência')\n",
    "plt.show()\n"
   ]
  },
  {
   "cell_type": "markdown",
   "metadata": {},
   "source": [
    "<i>Como percebe-se, a média de idade dos sobreviventes esta até 10 anos, e os não sobreviventes estão entre 18 a 30 anos.<br> No histograma da figura 2.1, mostra que havia mais passageiro com idade entre 18 a 32 anos. Mas neste gráfico quando se faz a analise percebe-se que os mortos foram entre 18 a 28 anos</i>"
   ]
  },
  {
   "cell_type": "markdown",
   "metadata": {},
   "source": [
    "# 3. Classe"
   ]
  },
  {
   "cell_type": "markdown",
   "metadata": {},
   "source": [
    "<b><i style=\"font-size:18px;color:#00008B;\">Qual a relação entre os sobreviventes e a classe de ingresso ?</i></b>"
   ]
  },
  {
   "cell_type": "code",
   "execution_count": 18,
   "metadata": {},
   "outputs": [],
   "source": [
    "vcolor2 = ['tab:green', 'tab:blue', 'tab:red', \n",
    "           'tab:orange', 'tab:purple', 'tab:brown', 'tab:gray', 'tab:pink','tab:olive','tab:cyan']\n",
    "\n",
    "#função para retornar o tipo de classe socio economica\n",
    "def func(x):    \n",
    "    if x == 1:\n",
    "        return \"1 - Classe rica\"\n",
    "    elif x  == 2:\n",
    "        return \"2 - Classe média\"\n",
    "    elif x == 3:\n",
    "        return \"3 - Classe baixa\"\n",
    "    else:\n",
    "        return 'N/A'\n",
    "\n",
    "df['cat_Pclass'] =  df.Pclass.apply(func).astype(\"category\")\n"
   ]
  },
  {
   "cell_type": "code",
   "execution_count": 19,
   "metadata": {},
   "outputs": [
    {
     "data": {
      "text/html": [
       "<div>\n",
       "<style scoped>\n",
       "    .dataframe tbody tr th:only-of-type {\n",
       "        vertical-align: middle;\n",
       "    }\n",
       "\n",
       "    .dataframe tbody tr th {\n",
       "        vertical-align: top;\n",
       "    }\n",
       "\n",
       "    .dataframe thead th {\n",
       "        text-align: right;\n",
       "    }\n",
       "</style>\n",
       "<table border=\"1\" class=\"dataframe\">\n",
       "  <thead>\n",
       "    <tr style=\"text-align: right;\">\n",
       "      <th></th>\n",
       "      <th>Name</th>\n",
       "    </tr>\n",
       "    <tr>\n",
       "      <th>cat_Pclass</th>\n",
       "      <th></th>\n",
       "    </tr>\n",
       "  </thead>\n",
       "  <tbody>\n",
       "    <tr>\n",
       "      <th>1 - Classe rica</th>\n",
       "      <td>216</td>\n",
       "    </tr>\n",
       "    <tr>\n",
       "      <th>2 - Classe média</th>\n",
       "      <td>184</td>\n",
       "    </tr>\n",
       "    <tr>\n",
       "      <th>3 - Classe baixa</th>\n",
       "      <td>491</td>\n",
       "    </tr>\n",
       "  </tbody>\n",
       "</table>\n",
       "</div>"
      ],
      "text/plain": [
       "                  Name\n",
       "cat_Pclass            \n",
       "1 - Classe rica    216\n",
       "2 - Classe média   184\n",
       "3 - Classe baixa   491"
      ]
     },
     "execution_count": 19,
     "metadata": {},
     "output_type": "execute_result"
    }
   ],
   "source": [
    "# listando a quantidade de class por tipo\n",
    "df_class = df.pivot_table(index='cat_Pclass', values='Name', aggfunc='count').sort_values(by='cat_Pclass', ascending=True)\n",
    "df_class\n"
   ]
  },
  {
   "cell_type": "code",
   "execution_count": 20,
   "metadata": {},
   "outputs": [
    {
     "data": {
      "text/plain": [
       "Text(0,0.5,'Quantidade')"
      ]
     },
     "execution_count": 20,
     "metadata": {},
     "output_type": "execute_result"
    },
    {
     "data": {
      "image/png": "[encoded data removed]",
      "text/plain": [
       "<Figure size 1080x288 with 1 Axes>"
      ]
     },
     "metadata": {},
     "output_type": "display_data"
    }
   ],
   "source": [
    "list_cores = 'tab:green', 'tab:blue', 'tab:gray' \n",
    "\n",
    "#criando o grafico por quantidade de pessoas por class\n",
    "df_class.plot(kind='bar', legend=False, figsize=(15,4), \n",
    "              title='Quantidade de pessoas por classe figura 3.1',\n",
    "              color=(list_cores), rot=0).set_xlabel('Classe por categoria')\n",
    "plt.ylabel('Quantidade')"
   ]
  },
  {
   "cell_type": "markdown",
   "metadata": {},
   "source": [
    "<i> Na figura 3.1, apresenta a quantidade de pessoas por classe e percebe-se que há mais pessoas na classe inferior</i>"
   ]
  },
  {
   "cell_type": "code",
   "execution_count": 21,
   "metadata": {},
   "outputs": [
    {
     "data": {
      "text/plain": [
       "Text(0.5,0,'Classe')"
      ]
     },
     "execution_count": 21,
     "metadata": {},
     "output_type": "execute_result"
    },
    {
     "data": {
      "image/png": "[encoded data removed]",
      "text/plain": [
       "<Figure size 1080x288 with 1 Axes>"
      ]
     },
     "metadata": {},
     "output_type": "display_data"
    }
   ],
   "source": [
    "df[df['Survived']==1].groupby('cat_Pclass').sum()['Survived'].plot(kind='bar',\n",
    "                                                               title='Quantidade de sobrevientes por classe figura 3.2', \n",
    "                                                               figsize=(15,4),\n",
    "                                                               color=['tab:green', 'tab:blue', 'tab:gray'], rot=0).set_xlabel('Classe')"
   ]
  },
  {
   "cell_type": "markdown",
   "metadata": {},
   "source": [
    "<i>Na figura 3.1, mostra que havia mais pessoas da classe inferior, mas neste gráfico da figura 3.2, mostra que houve mais sobrevivente na classe rica.</i>"
   ]
  },
  {
   "cell_type": "code",
   "execution_count": 22,
   "metadata": {},
   "outputs": [],
   "source": [
    "df_sobrevivetes = df.groupby('cat_Pclass')[['Survived']].sum()"
   ]
  },
  {
   "cell_type": "code",
   "execution_count": 23,
   "metadata": {},
   "outputs": [
    {
     "data": {
      "text/plain": [
       "Text(0,0.5,'')"
      ]
     },
     "execution_count": 23,
     "metadata": {},
     "output_type": "execute_result"
    },
    {
     "data": {
      "image/png": "[encoded data removed]",
      "text/plain": [
       "<Figure size 432x288 with 1 Axes>"
      ]
     },
     "metadata": {},
     "output_type": "display_data"
    }
   ],
   "source": [
    "df_sobrevivetes.apply(lambda x: (x / x.sum(axis=0))*100)['Survived'].plot.pie(fontsize=13,\n",
    "                                                                             title='Percentual de sobreviventes por classe (em relação ao total de sobreviventes) (figura 3.3)',\n",
    "                                                                             startangle=90,\n",
    "                                                                             autopct='%1.0f%%',\n",
    "                                                                             shadow=True,\n",
    "                                                                             colors = vcolor2,\n",
    "                                                                             figsize=(6,4)).set_ylabel('')"
   ]
  },
  {
   "cell_type": "markdown",
   "metadata": {},
   "source": [
    "<i> Na figura acima 3.3 mostra que houve mais morte na classe baixa"
   ]
  },
  {
   "cell_type": "markdown",
   "metadata": {},
   "source": [
    "## 4.Embarked\n",
    "<i style=\"font-size:18px;color:#00008B;font-weight:bold\"> Qual ponto de embarque recebeu mais passageiros ?</i><br>\n",
    "Embarked (Embarque): Porto de embarque (C= Chebourg, Q = Queenstown, S=Southampton)"
   ]
  },
  {
   "cell_type": "code",
   "execution_count": 24,
   "metadata": {},
   "outputs": [],
   "source": [
    "# listando a quantidade de class por tipo\n",
    "#cria uma nova coluna.\n",
    "df_emb = df.copy()\n",
    "df_emb.drop(df_emb[df_emb['Embarked'].isnull() == True].index, inplace=True)\n",
    "\n",
    "# criando a coluna faixa_etaria com valores nulos\n",
    "df_emb['embarque'] = None\n",
    "\n",
    "# povoe as linhas das crianças.\n",
    "# linhas nas quais a idade está no intervalo [0, 15).\n",
    "# descomente a linha abaixo e substitua ... pela expressão correta\n",
    "df_emb.loc[('C' == df_emb.Embarked), 'embarque'] = 'C = Chebourg'\n",
    "\n",
    "# povoando as linhas dos adultos.\n",
    "# linhas nas quais a idade está no intervalo [15, 45).\n",
    "df_emb.loc[('Q' == df_emb.Embarked), 'embarque'] = 'Q = Queenstown'\n",
    "\n",
    "\n",
    "# povoe as linhas dos idoso.\n",
    "# linhas nas quais a idade está no intervalo [45, 100].\n",
    "# descomente a linha abaixo e substitua ... pela expressão correta\n",
    "df_emb.loc[('S' == df_emb.Embarked), 'embarque'] = 'S = Southampton'\n",
    "\n"
   ]
  },
  {
   "cell_type": "code",
   "execution_count": 25,
   "metadata": {},
   "outputs": [
    {
     "data": {
      "text/html": [
       "<div>\n",
       "<style scoped>\n",
       "    .dataframe tbody tr th:only-of-type {\n",
       "        vertical-align: middle;\n",
       "    }\n",
       "\n",
       "    .dataframe tbody tr th {\n",
       "        vertical-align: top;\n",
       "    }\n",
       "\n",
       "    .dataframe thead th {\n",
       "        text-align: right;\n",
       "    }\n",
       "</style>\n",
       "<table border=\"1\" class=\"dataframe\">\n",
       "  <thead>\n",
       "    <tr style=\"text-align: right;\">\n",
       "      <th></th>\n",
       "      <th>Name</th>\n",
       "    </tr>\n",
       "    <tr>\n",
       "      <th>embarque</th>\n",
       "      <th></th>\n",
       "    </tr>\n",
       "  </thead>\n",
       "  <tbody>\n",
       "    <tr>\n",
       "      <th>C = Chebourg</th>\n",
       "      <td>168</td>\n",
       "    </tr>\n",
       "    <tr>\n",
       "      <th>Q = Queenstown</th>\n",
       "      <td>77</td>\n",
       "    </tr>\n",
       "    <tr>\n",
       "      <th>S = Southampton</th>\n",
       "      <td>644</td>\n",
       "    </tr>\n",
       "  </tbody>\n",
       "</table>\n",
       "</div>"
      ],
      "text/plain": [
       "                 Name\n",
       "embarque             \n",
       "C = Chebourg      168\n",
       "Q = Queenstown     77\n",
       "S = Southampton   644"
      ]
     },
     "execution_count": 25,
     "metadata": {},
     "output_type": "execute_result"
    }
   ],
   "source": [
    "embaque = df_emb.pivot_table(index='embarque', values='Name', aggfunc='count')\n",
    "embaque\n"
   ]
  },
  {
   "cell_type": "code",
   "execution_count": 26,
   "metadata": {},
   "outputs": [
    {
     "data": {
      "text/plain": [
       "Text(0,0.5,'Quantidade')"
      ]
     },
     "execution_count": 26,
     "metadata": {},
     "output_type": "execute_result"
    },
    {
     "data": {
      "image/png": "[encoded data removed]",
      "text/plain": [
       "<Figure size 1080x288 with 1 Axes>"
      ]
     },
     "metadata": {},
     "output_type": "display_data"
    }
   ],
   "source": [
    "embaque.plot(kind='bar', legend=False, figsize=(15,4), \n",
    "              title='Quantidade de pessoas por embarque 4.1',\n",
    "              color=('tab:cyan', 'tab:olive', 'tab:purple'), rot=0).set_xlabel('Porto de embarque (figura 4.1)')\n",
    "plt.ylabel('Quantidade')"
   ]
  },
  {
   "cell_type": "markdown",
   "metadata": {},
   "source": []
  },
  {
   "cell_type": "markdown",
   "metadata": {},
   "source": [
    "# 5.Sexo\n",
    "\n",
    "<i style=\"font-size:18px;color:#00008B;font-weight:bold\">  Qual o sexo mais relevante entre os sobreviventes ?</i><p>\n",
    "<i>Para facilitar a leitura do gráfico, ira alterar os campos da coluna sexo <br>\n",
    " <ul>\n",
    "     <li>Male => Homem</li>\n",
    "     <li>Famale => Mulher</li>\n",
    " </ul>\n",
    "</i>"
   ]
  },
  {
   "cell_type": "code",
   "execution_count": 27,
   "metadata": {},
   "outputs": [
    {
     "data": {
      "image/png": "[encoded data removed]",
      "text/plain": [
       "<Figure size 432x288 with 1 Axes>"
      ]
     },
     "metadata": {},
     "output_type": "display_data"
    }
   ],
   "source": [
    "# alterando a coluna os itens da coluna sex\n",
    "df['Sex'] = df['Sex'].map({'female': 'Mulher', 'male': 'Homem'})\n",
    "passageiros = sns.countplot(data=df, x='cat_Survived',hue='Sex', palette='Reds_d')\n",
    "\n",
    "for p in passageiros.patches:\n",
    "    b=p.get_bbox()\n",
    "    passageiros.annotate(\"{:.0f}\".format(b.y1 + b.y0), ((b.x0 + b.x1)/2 -0.03, b.y1+ 15))\n",
    "plt.title(\"Quantidade de sobreviventes/ Mortos (figura 5.1)\\n Total: %s passageiros\" % (df.shape[0]))\n",
    "plt.xlabel(\"Sobreviventes\")\n",
    "plt.ylabel(\"Número de sobreviventes\")\n",
    "plt.show()"
   ]
  },
  {
   "cell_type": "markdown",
   "metadata": {},
   "source": [
    "<i>Na figura acima, mostra que as mulheres foram mais que sobreviveram</i>"
   ]
  },
  {
   "cell_type": "markdown",
   "metadata": {},
   "source": [
    "<i style=\"font-size:18px;color:#00008B;font-weight:bold\"> 8. Quantos bilhetes unicos existem ? <br>9. Quantos bilhetes duplicados existem ?</i><br>\n",
    "\n"
   ]
  },
  {
   "cell_type": "code",
   "execution_count": 28,
   "metadata": {},
   "outputs": [
    {
     "name": "stdout",
     "output_type": "stream",
     "text": [
      "Bilheres duplicados:  674\n",
      "Bilhetes unicos:  7\n"
     ]
    }
   ],
   "source": [
    "\n",
    "df_ticket_rep = df.pivot_table(index='Ticket', values='Name', aggfunc='count')\n",
    "\n",
    "print(\"Bilheres duplicados: \", (df_ticket_rep.duplicated()).sum())\n",
    "print(\"Bilhetes unicos: \", (~df_ticket_rep.duplicated()).sum())"
   ]
  },
  {
   "cell_type": "markdown",
   "metadata": {},
   "source": [
    "<i>Nesta analise, houve varios bilhetes duplicados</i>"
   ]
  },
  {
   "cell_type": "markdown",
   "metadata": {},
   "source": [
    "## Conclusão\n",
    "\n",
    "Na análise teve como objetivo saber a maior chance de sobreviventes que outros. \n",
    "Identificamos que fatores como a Classe, Sexo e Idade realmente influenciaram para o aumento ou diminuição das chances de sobrevivência.<p>\n",
    "Quando se faz a análise da Classe percebe-se na figura 3.1,3.2, 3.3 houve mais sobreviventes na classe rica.<p>\n",
    "    \n",
    "Quando faz analise do sexo, percebe-se que na figura 5.1 os mais sobrevivente foram mulheres. Este gráfico mostra a diferença.<p>\n",
    "Outra análise foram os sobrevivente e os mortos por idade. Nesta análise foram divididas em três tipos as crianças definido até 15 anos, os adultos menor que 45 e os idosos acima de 45. E percebe-se na nossa análise que os idosos foram os que mais morreram figura 2.2.<p>\n",
    "Este estudo pode ser continuado com a análise de outras variáveis, explorar e encontrar novos insights utilizando as informações desta base para gerar novas variáveis. \n"
   ]
  },
  {
   "cell_type": "markdown",
   "metadata": {},
   "source": [
    "Fonte de pesquisa:\n",
    "\n",
    "https://blog.csdn.net/u010016927/article/details/75451971\n",
    "https://towardsdatascience.com/visualization-learning-from-disaster-titanic-42eeb99cdbdc\n",
    "https://blog.csdn.net/u010016927/article/details/75451971\n",
    "http://campus.lakeforest.edu/frank/FILES/MLFfiles/Bio150/Titanic/TitanicMETA.\n",
    "https://paulovasconcellos.com.br/o-que-o-naufr%C3%A1gio-do-titanic-nos-ensina-at%C3%A9-hoje-data-science-project-2fea8ff1c9b5\n",
    "https://medium.com/marciojesus/investigando-o-naufr%C3%A1gio-do-titanic-b478c7750d31\n",
    "https://towardsdatascience.com/visualization-learning-from-disaster-titanic-42eeb99cdbdc\n",
    "https://mundoestranho.abril.com.br/ambiente/em-naufragios-criancas-e-mulheres-tem-mesmo-prioridade/\n",
    "https://www.kaggle.com/c/titanic/data\n",
    "http://minerandodados.com.br/index.php/2017/09/26/python-para-analise-de-dados/\n"
   ]
  }
 ],
 "metadata": {
  "kernelspec": {
   "display_name": "Python 3",
   "language": "python",
   "name": "python3"
  },
  "language_info": {
   "codemirror_mode": {
    "name": "ipython",
    "version": 3
   },
   "file_extension": ".py",
   "mimetype": "text/x-python",
   "name": "python",
   "nbconvert_exporter": "python",
   "pygments_lexer": "ipython3",
   "version": "3.6.5"
  }
 },
 "nbformat": 4,
 "nbformat_minor": 2
}
